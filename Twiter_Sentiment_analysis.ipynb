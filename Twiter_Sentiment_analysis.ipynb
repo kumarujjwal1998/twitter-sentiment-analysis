{
  "nbformat": 4,
  "nbformat_minor": 0,
  "metadata": {
    "colab": {
      "name": "Twiter Sentiment analysis.ipynb",
      "version": "0.3.2",
      "provenance": []
    },
    "kernelspec": {
      "name": "python3",
      "display_name": "Python 3"
    }
  },
  "cells": [
    {
      "cell_type": "code",
      "metadata": {
        "id": "omd4rUdC4hbw",
        "colab_type": "code",
        "outputId": "b53d4565-fe2e-4484-ecf5-b90d94c4c71c",
        "colab": {
          "base_uri": "https://localhost:8080/",
          "height": 170
        }
      },
      "source": [
        "!pip install regex\n",
        "import re\n",
        "import regex"
      ],
      "execution_count": 0,
      "outputs": [
        {
          "output_type": "stream",
          "text": [
            "Collecting regex\n",
            "\u001b[?25l  Downloading https://files.pythonhosted.org/packages/6f/4e/1b178c38c9a1a184288f72065a65ca01f3154df43c6ad898624149b8b4e0/regex-2019.06.08.tar.gz (651kB)\n",
            "\u001b[K     |████████████████████████████████| 655kB 2.8MB/s \n",
            "\u001b[?25hBuilding wheels for collected packages: regex\n",
            "  Building wheel for regex (setup.py) ... \u001b[?25l\u001b[?25hdone\n",
            "  Stored in directory: /root/.cache/pip/wheels/35/e4/80/abf3b33ba89cf65cd262af8a22a5a999cc28fbfabea6b38473\n",
            "Successfully built regex\n",
            "Installing collected packages: regex\n",
            "Successfully installed regex-2019.6.8\n"
          ],
          "name": "stdout"
        }
      ]
    },
    {
      "cell_type": "code",
      "metadata": {
        "id": "hNRkifLb5Fvg",
        "colab_type": "code",
        "colab": {}
      },
      "source": [
        "email_validator = re.compile('[a-z]+')"
      ],
      "execution_count": 0,
      "outputs": []
    },
    {
      "cell_type": "code",
      "metadata": {
        "id": "lYD4kqTb5PVk",
        "colab_type": "code",
        "outputId": "4edbd528-e83c-4a4b-d4d7-90956a684720",
        "colab": {
          "base_uri": "https://localhost:8080/",
          "height": 34
        }
      },
      "source": [
        "print(email_validator.match('schoolofaiBellevue'))"
      ],
      "execution_count": 0,
      "outputs": [
        {
          "output_type": "stream",
          "text": [
            "<_sre.SRE_Match object; span=(0, 10), match='schoolofai'>\n"
          ],
          "name": "stdout"
        }
      ]
    },
    {
      "cell_type": "code",
      "metadata": {
        "id": "W2xUlxoJ58Oa",
        "colab_type": "code",
        "outputId": "7e3c216e-0d75-4c3c-df09-caae66462c14",
        "colab": {
          "base_uri": "https://localhost:8080/",
          "height": 34
        }
      },
      "source": [
        "def valid_email(email):\n",
        "  return bool(re.search('^[\\w\\.\\+\\-]+\\@[\\w]+\\.[a-z]{2,3}$',email))\n",
        "\n",
        "\n",
        "valid_email('abc@gmail.com')"
      ],
      "execution_count": 0,
      "outputs": [
        {
          "output_type": "execute_result",
          "data": {
            "text/plain": [
              "True"
            ]
          },
          "metadata": {
            "tags": []
          },
          "execution_count": 14
        }
      ]
    },
    {
      "cell_type": "code",
      "metadata": {
        "id": "FimD3_tA7QNe",
        "colab_type": "code",
        "colab": {
          "base_uri": "https://localhost:8080/",
          "height": 377
        },
        "outputId": "ec465833-0871-41b5-fe5d-2e0eeaf74196"
      },
      "source": [
        "\n",
        "!pip install pandas\n",
        "!pip install tweepy\n",
        "!pip install vaderSentiment"
      ],
      "execution_count": 15,
      "outputs": [
        {
          "output_type": "stream",
          "text": [
            "Requirement already satisfied: pandas in /usr/local/lib/python3.6/dist-packages (0.24.2)\n",
            "Requirement already satisfied: pytz>=2011k in /usr/local/lib/python3.6/dist-packages (from pandas) (2018.9)\n",
            "Requirement already satisfied: numpy>=1.12.0 in /usr/local/lib/python3.6/dist-packages (from pandas) (1.16.4)\n",
            "Requirement already satisfied: python-dateutil>=2.5.0 in /usr/local/lib/python3.6/dist-packages (from pandas) (2.5.3)\n",
            "Requirement already satisfied: six>=1.5 in /usr/local/lib/python3.6/dist-packages (from python-dateutil>=2.5.0->pandas) (1.12.0)\n",
            "Requirement already satisfied: tweepy in /usr/local/lib/python3.6/dist-packages (3.6.0)\n",
            "Requirement already satisfied: PySocks>=1.5.7 in /usr/local/lib/python3.6/dist-packages (from tweepy) (1.7.0)\n",
            "Requirement already satisfied: requests>=2.11.1 in /usr/local/lib/python3.6/dist-packages (from tweepy) (2.21.0)\n",
            "Requirement already satisfied: requests-oauthlib>=0.7.0 in /usr/local/lib/python3.6/dist-packages (from tweepy) (1.2.0)\n",
            "Requirement already satisfied: six>=1.10.0 in /usr/local/lib/python3.6/dist-packages (from tweepy) (1.12.0)\n",
            "Requirement already satisfied: idna<2.9,>=2.5 in /usr/local/lib/python3.6/dist-packages (from requests>=2.11.1->tweepy) (2.8)\n",
            "Requirement already satisfied: certifi>=2017.4.17 in /usr/local/lib/python3.6/dist-packages (from requests>=2.11.1->tweepy) (2019.6.16)\n",
            "Requirement already satisfied: urllib3<1.25,>=1.21.1 in /usr/local/lib/python3.6/dist-packages (from requests>=2.11.1->tweepy) (1.24.3)\n",
            "Requirement already satisfied: chardet<3.1.0,>=3.0.2 in /usr/local/lib/python3.6/dist-packages (from requests>=2.11.1->tweepy) (3.0.4)\n",
            "Requirement already satisfied: oauthlib>=3.0.0 in /usr/local/lib/python3.6/dist-packages (from requests-oauthlib>=0.7.0->tweepy) (3.0.1)\n",
            "Collecting vaderSentiment\n",
            "\u001b[?25l  Downloading https://files.pythonhosted.org/packages/86/9e/c53e1fc61aac5ee490a6ac5e21b1ac04e55a7c2aba647bb8411c9aadf24e/vaderSentiment-3.2.1-py2.py3-none-any.whl (125kB)\n",
            "\u001b[K     |████████████████████████████████| 133kB 2.8MB/s \n",
            "\u001b[?25hInstalling collected packages: vaderSentiment\n",
            "Successfully installed vaderSentiment-3.2.1\n"
          ],
          "name": "stdout"
        }
      ]
    },
    {
      "cell_type": "code",
      "metadata": {
        "id": "76X2m3V4RbQ7",
        "colab_type": "code",
        "colab": {
          "base_uri": "https://localhost:8080/",
          "height": 71
        },
        "outputId": "b0314e73-91f0-4e38-fe38-bab73f953878"
      },
      "source": [
        "import tweepy\n",
        "import pandas as pd\n",
        "from nltk.sentiment.vader import SentimentIntensityAnalyzer\n"
      ],
      "execution_count": 16,
      "outputs": [
        {
          "output_type": "stream",
          "text": [
            "/usr/local/lib/python3.6/dist-packages/nltk/twitter/__init__.py:20: UserWarning: The twython library has not been installed. Some functionality from the twitter package will not be available.\n",
            "  warnings.warn(\"The twython library has not been installed. \"\n"
          ],
          "name": "stderr"
        }
      ]
    },
    {
      "cell_type": "code",
      "metadata": {
        "id": "z5gBSmfuR5Pd",
        "colab_type": "code",
        "colab": {}
      },
      "source": [
        "\n",
        "#My Twitter API Authentication Variables\n",
        "consumer_key = ''\n",
        "consumer_secret = ''\n",
        "access_token = ''\n",
        "access_token_secret = ''"
      ],
      "execution_count": 0,
      "outputs": []
    },
    {
      "cell_type": "code",
      "metadata": {
        "id": "inawtDSfSNIe",
        "colab_type": "code",
        "colab": {
          "base_uri": "https://localhost:8080/",
          "height": 376
        },
        "outputId": "2cd7a377-4d52-4947-d1ff-85ba22c7697b"
      },
      "source": [
        "auth = tweepy.OAuthHandler(consumer_key, consumer_secret)\n",
        "auth.set_access_token(access_token, access_token_secret)\n",
        "\n",
        "api = tweepy.API(auth)\n",
        "\n",
        "tweets = api.search('Zaira Wasim', count=200)\n",
        "\n",
        "\n",
        "data = pd.DataFrame(data=[tweet.text for tweet in tweets], columns=['Tweets'])\n",
        "\n",
        "display(data.head(10))\n",
        "\n",
        "\n",
        "print(tweets[0].created_at)"
      ],
      "execution_count": 27,
      "outputs": [
        {
          "output_type": "display_data",
          "data": {
            "text/html": [
              "<div>\n",
              "<style scoped>\n",
              "    .dataframe tbody tr th:only-of-type {\n",
              "        vertical-align: middle;\n",
              "    }\n",
              "\n",
              "    .dataframe tbody tr th {\n",
              "        vertical-align: top;\n",
              "    }\n",
              "\n",
              "    .dataframe thead th {\n",
              "        text-align: right;\n",
              "    }\n",
              "</style>\n",
              "<table border=\"1\" class=\"dataframe\">\n",
              "  <thead>\n",
              "    <tr style=\"text-align: right;\">\n",
              "      <th></th>\n",
              "      <th>Tweets</th>\n",
              "    </tr>\n",
              "  </thead>\n",
              "  <tbody>\n",
              "    <tr>\n",
              "      <th>0</th>\n",
              "      <td>RT @sgurumurthy: Had only a Hindu actress or a...</td>\n",
              "    </tr>\n",
              "    <tr>\n",
              "      <th>1</th>\n",
              "      <td>RT @ashoswai: Who will play Sita in Ram-Leela?...</td>\n",
              "    </tr>\n",
              "    <tr>\n",
              "      <th>2</th>\n",
              "      <td>RT @rameshsrivats: Just caught up on the Zaira...</td>\n",
              "    </tr>\n",
              "    <tr>\n",
              "      <th>3</th>\n",
              "      <td>RT @rameshsrivats: Just caught up on the Zaira...</td>\n",
              "    </tr>\n",
              "    <tr>\n",
              "      <th>4</th>\n",
              "      <td>RT @sgurumurthy: Had only a Hindu actress or a...</td>\n",
              "    </tr>\n",
              "    <tr>\n",
              "      <th>5</th>\n",
              "      <td>RT @Punofgod: Zaira wasim ne acting chor di, A...</td>\n",
              "    </tr>\n",
              "    <tr>\n",
              "      <th>6</th>\n",
              "      <td>RT @AbijitG: I was thinking Zaira Wasim should...</td>\n",
              "    </tr>\n",
              "    <tr>\n",
              "      <th>7</th>\n",
              "      <td>RT @Payal_Rohatgi: Zaira Wasim के सन्यास पर अभ...</td>\n",
              "    </tr>\n",
              "    <tr>\n",
              "      <th>8</th>\n",
              "      <td>RT @Payal_Rohatgi: Zaira Wasim के सन्यास पर अभ...</td>\n",
              "    </tr>\n",
              "    <tr>\n",
              "      <th>9</th>\n",
              "      <td>RT @rameshsrivats: Just caught up on the Zaira...</td>\n",
              "    </tr>\n",
              "  </tbody>\n",
              "</table>\n",
              "</div>"
            ],
            "text/plain": [
              "                                              Tweets\n",
              "0  RT @sgurumurthy: Had only a Hindu actress or a...\n",
              "1  RT @ashoswai: Who will play Sita in Ram-Leela?...\n",
              "2  RT @rameshsrivats: Just caught up on the Zaira...\n",
              "3  RT @rameshsrivats: Just caught up on the Zaira...\n",
              "4  RT @sgurumurthy: Had only a Hindu actress or a...\n",
              "5  RT @Punofgod: Zaira wasim ne acting chor di, A...\n",
              "6  RT @AbijitG: I was thinking Zaira Wasim should...\n",
              "7  RT @Payal_Rohatgi: Zaira Wasim के सन्यास पर अभ...\n",
              "8  RT @Payal_Rohatgi: Zaira Wasim के सन्यास पर अभ...\n",
              "9  RT @rameshsrivats: Just caught up on the Zaira..."
            ]
          },
          "metadata": {
            "tags": []
          }
        },
        {
          "output_type": "stream",
          "text": [
            "2019-07-02 10:47:28\n"
          ],
          "name": "stdout"
        }
      ]
    },
    {
      "cell_type": "code",
      "metadata": {
        "id": "nVY9YBRpSX3l",
        "colab_type": "code",
        "colab": {
          "base_uri": "https://localhost:8080/",
          "height": 68
        },
        "outputId": "25b8a5e7-4bca-4f23-8886-05169a465a88"
      },
      "source": [
        "import nltk\n",
        "nltk.download('vader_lexicon')"
      ],
      "execution_count": 28,
      "outputs": [
        {
          "output_type": "stream",
          "text": [
            "[nltk_data] Downloading package vader_lexicon to /root/nltk_data...\n",
            "[nltk_data]   Package vader_lexicon is already up-to-date!\n"
          ],
          "name": "stdout"
        },
        {
          "output_type": "execute_result",
          "data": {
            "text/plain": [
              "True"
            ]
          },
          "metadata": {
            "tags": []
          },
          "execution_count": 28
        }
      ]
    },
    {
      "cell_type": "code",
      "metadata": {
        "id": "k8IZQtYsScM4",
        "colab_type": "code",
        "colab": {
          "base_uri": "https://localhost:8080/",
          "height": 1000
        },
        "outputId": "3481ac0a-eaa2-4f72-a576-642da5991d67"
      },
      "source": [
        "\n",
        "sid = SentimentIntensityAnalyzer()\n",
        "\n",
        "\n",
        "listy = []\n",
        "\n",
        "for index, row in data.iterrows():\n",
        "  ss = sid.polarity_scores(row[\"Tweets\"])\n",
        "  listy.append(ss)\n",
        "  \n",
        "se = pd.Series(listy)\n",
        "data['polarity'] = se.values\n",
        "\n",
        "display(data.head(100))"
      ],
      "execution_count": 29,
      "outputs": [
        {
          "output_type": "display_data",
          "data": {
            "text/html": [
              "<div>\n",
              "<style scoped>\n",
              "    .dataframe tbody tr th:only-of-type {\n",
              "        vertical-align: middle;\n",
              "    }\n",
              "\n",
              "    .dataframe tbody tr th {\n",
              "        vertical-align: top;\n",
              "    }\n",
              "\n",
              "    .dataframe thead th {\n",
              "        text-align: right;\n",
              "    }\n",
              "</style>\n",
              "<table border=\"1\" class=\"dataframe\">\n",
              "  <thead>\n",
              "    <tr style=\"text-align: right;\">\n",
              "      <th></th>\n",
              "      <th>Tweets</th>\n",
              "      <th>polarity</th>\n",
              "    </tr>\n",
              "  </thead>\n",
              "  <tbody>\n",
              "    <tr>\n",
              "      <th>0</th>\n",
              "      <td>RT @sgurumurthy: Had only a Hindu actress or a...</td>\n",
              "      <td>{'neg': 0.114, 'neu': 0.886, 'pos': 0.0, 'comp...</td>\n",
              "    </tr>\n",
              "    <tr>\n",
              "      <th>1</th>\n",
              "      <td>RT @ashoswai: Who will play Sita in Ram-Leela?...</td>\n",
              "      <td>{'neg': 0.0, 'neu': 0.769, 'pos': 0.231, 'comp...</td>\n",
              "    </tr>\n",
              "    <tr>\n",
              "      <th>2</th>\n",
              "      <td>RT @rameshsrivats: Just caught up on the Zaira...</td>\n",
              "      <td>{'neg': 0.0, 'neu': 1.0, 'pos': 0.0, 'compound...</td>\n",
              "    </tr>\n",
              "    <tr>\n",
              "      <th>3</th>\n",
              "      <td>RT @rameshsrivats: Just caught up on the Zaira...</td>\n",
              "      <td>{'neg': 0.0, 'neu': 1.0, 'pos': 0.0, 'compound...</td>\n",
              "    </tr>\n",
              "    <tr>\n",
              "      <th>4</th>\n",
              "      <td>RT @sgurumurthy: Had only a Hindu actress or a...</td>\n",
              "      <td>{'neg': 0.114, 'neu': 0.886, 'pos': 0.0, 'comp...</td>\n",
              "    </tr>\n",
              "    <tr>\n",
              "      <th>5</th>\n",
              "      <td>RT @Punofgod: Zaira wasim ne acting chor di, A...</td>\n",
              "      <td>{'neg': 0.0, 'neu': 1.0, 'pos': 0.0, 'compound...</td>\n",
              "    </tr>\n",
              "    <tr>\n",
              "      <th>6</th>\n",
              "      <td>RT @AbijitG: I was thinking Zaira Wasim should...</td>\n",
              "      <td>{'neg': 0.234, 'neu': 0.602, 'pos': 0.164, 'co...</td>\n",
              "    </tr>\n",
              "    <tr>\n",
              "      <th>7</th>\n",
              "      <td>RT @Payal_Rohatgi: Zaira Wasim के सन्यास पर अभ...</td>\n",
              "      <td>{'neg': 0.0, 'neu': 1.0, 'pos': 0.0, 'compound...</td>\n",
              "    </tr>\n",
              "    <tr>\n",
              "      <th>8</th>\n",
              "      <td>RT @Payal_Rohatgi: Zaira Wasim के सन्यास पर अभ...</td>\n",
              "      <td>{'neg': 0.0, 'neu': 1.0, 'pos': 0.0, 'compound...</td>\n",
              "    </tr>\n",
              "    <tr>\n",
              "      <th>9</th>\n",
              "      <td>RT @rameshsrivats: Just caught up on the Zaira...</td>\n",
              "      <td>{'neg': 0.0, 'neu': 1.0, 'pos': 0.0, 'compound...</td>\n",
              "    </tr>\n",
              "    <tr>\n",
              "      <th>10</th>\n",
              "      <td>RT @Payal_Rohatgi: Zaira Wasim के सन्यास पर अभ...</td>\n",
              "      <td>{'neg': 0.0, 'neu': 1.0, 'pos': 0.0, 'compound...</td>\n",
              "    </tr>\n",
              "    <tr>\n",
              "      <th>11</th>\n",
              "      <td>RT @rameshsrivats: Just caught up on the Zaira...</td>\n",
              "      <td>{'neg': 0.0, 'neu': 1.0, 'pos': 0.0, 'compound...</td>\n",
              "    </tr>\n",
              "    <tr>\n",
              "      <th>12</th>\n",
              "      <td>জায়রার সিদ্ধান্ত অত্যন্ত বোকা বোকা :​ তসলিমা ...</td>\n",
              "      <td>{'neg': 0.0, 'neu': 1.0, 'pos': 0.0, 'compound...</td>\n",
              "    </tr>\n",
              "    <tr>\n",
              "      <th>13</th>\n",
              "      <td>Zaira Wasim के सन्यास पर अभिनेत्री Payal Rohta...</td>\n",
              "      <td>{'neg': 0.0, 'neu': 1.0, 'pos': 0.0, 'compound...</td>\n",
              "    </tr>\n",
              "    <tr>\n",
              "      <th>14</th>\n",
              "      <td>RT @TheQuint: Blog | To me, Zaira’s long note ...</td>\n",
              "      <td>{'neg': 0.0, 'neu': 0.744, 'pos': 0.256, 'comp...</td>\n",
              "    </tr>\n",
              "    <tr>\n",
              "      <th>15</th>\n",
              "      <td>''മതമാണ് നിങ്ങളെ കൊണ്ട് ഇതു ചെയ്യിച്ചതെങ്കില്‍...</td>\n",
              "      <td>{'neg': 0.0, 'neu': 1.0, 'pos': 0.0, 'compound...</td>\n",
              "    </tr>\n",
              "    <tr>\n",
              "      <th>16</th>\n",
              "      <td>RT @rameshsrivats: Just caught up on the Zaira...</td>\n",
              "      <td>{'neg': 0.0, 'neu': 1.0, 'pos': 0.0, 'compound...</td>\n",
              "    </tr>\n",
              "    <tr>\n",
              "      <th>17</th>\n",
              "      <td>RT @rameshsrivats: Just caught up on the Zaira...</td>\n",
              "      <td>{'neg': 0.0, 'neu': 1.0, 'pos': 0.0, 'compound...</td>\n",
              "    </tr>\n",
              "    <tr>\n",
              "      <th>18</th>\n",
              "      <td>RT @calamur: At the height of his stardom, Vin...</td>\n",
              "      <td>{'neg': 0.059, 'neu': 0.941, 'pos': 0.0, 'comp...</td>\n",
              "    </tr>\n",
              "    <tr>\n",
              "      <th>19</th>\n",
              "      <td>RT @rameshsrivats: Just caught up on the Zaira...</td>\n",
              "      <td>{'neg': 0.0, 'neu': 1.0, 'pos': 0.0, 'compound...</td>\n",
              "    </tr>\n",
              "    <tr>\n",
              "      <th>20</th>\n",
              "      <td>RT @rameshsrivats: Just caught up on the Zaira...</td>\n",
              "      <td>{'neg': 0.0, 'neu': 1.0, 'pos': 0.0, 'compound...</td>\n",
              "    </tr>\n",
              "    <tr>\n",
              "      <th>21</th>\n",
              "      <td>RT @rameshsrivats: Just caught up on the Zaira...</td>\n",
              "      <td>{'neg': 0.0, 'neu': 1.0, 'pos': 0.0, 'compound...</td>\n",
              "    </tr>\n",
              "    <tr>\n",
              "      <th>22</th>\n",
              "      <td>RT @the_fauxy: Zaira Wasim Quits Acting As Isl...</td>\n",
              "      <td>{'neg': 0.126, 'neu': 0.874, 'pos': 0.0, 'comp...</td>\n",
              "    </tr>\n",
              "    <tr>\n",
              "      <th>23</th>\n",
              "      <td>RT @rameshsrivats: Just caught up on the Zaira...</td>\n",
              "      <td>{'neg': 0.0, 'neu': 1.0, 'pos': 0.0, 'compound...</td>\n",
              "    </tr>\n",
              "    <tr>\n",
              "      <th>24</th>\n",
              "      <td>@chetan_bhagat i write trash chickflick for 13...</td>\n",
              "      <td>{'neg': 0.1, 'neu': 0.9, 'pos': 0.0, 'compound...</td>\n",
              "    </tr>\n",
              "    <tr>\n",
              "      <th>25</th>\n",
              "      <td>RT @rameshsrivats: Just caught up on the Zaira...</td>\n",
              "      <td>{'neg': 0.0, 'neu': 1.0, 'pos': 0.0, 'compound...</td>\n",
              "    </tr>\n",
              "    <tr>\n",
              "      <th>26</th>\n",
              "      <td>RT @AbijitG: I was thinking Zaira Wasim should...</td>\n",
              "      <td>{'neg': 0.234, 'neu': 0.602, 'pos': 0.164, 'co...</td>\n",
              "    </tr>\n",
              "    <tr>\n",
              "      <th>27</th>\n",
              "      <td>#Dangal actress #ZairaWasim quits Bollywood, s...</td>\n",
              "      <td>{'neg': 0.214, 'neu': 0.786, 'pos': 0.0, 'comp...</td>\n",
              "    </tr>\n",
              "    <tr>\n",
              "      <th>28</th>\n",
              "      <td>After reading the statement given by zaira was...</td>\n",
              "      <td>{'neg': 0.0, 'neu': 0.887, 'pos': 0.113, 'comp...</td>\n",
              "    </tr>\n",
              "    <tr>\n",
              "      <th>29</th>\n",
              "      <td>@anandmahindra Anand ji zaira wasim ke baare m...</td>\n",
              "      <td>{'neg': 0.0, 'neu': 1.0, 'pos': 0.0, 'compound...</td>\n",
              "    </tr>\n",
              "    <tr>\n",
              "      <th>...</th>\n",
              "      <td>...</td>\n",
              "      <td>...</td>\n",
              "    </tr>\n",
              "    <tr>\n",
              "      <th>54</th>\n",
              "      <td>RT @UnSubtleDesi: Zaira Wasim’s manager flip-f...</td>\n",
              "      <td>{'neg': 0.119, 'neu': 0.881, 'pos': 0.0, 'comp...</td>\n",
              "    </tr>\n",
              "    <tr>\n",
              "      <th>55</th>\n",
              "      <td>RT @rameshsrivats: Just caught up on the Zaira...</td>\n",
              "      <td>{'neg': 0.0, 'neu': 1.0, 'pos': 0.0, 'compound...</td>\n",
              "    </tr>\n",
              "    <tr>\n",
              "      <th>56</th>\n",
              "      <td>Raveena Tandon deletes tweet over Zaira Wasim ...</td>\n",
              "      <td>{'neg': 0.0, 'neu': 0.848, 'pos': 0.152, 'comp...</td>\n",
              "    </tr>\n",
              "    <tr>\n",
              "      <th>57</th>\n",
              "      <td>Raveena Tandon deletes tweet over Zaira Wasim ...</td>\n",
              "      <td>{'neg': 0.0, 'neu': 0.865, 'pos': 0.135, 'comp...</td>\n",
              "    </tr>\n",
              "    <tr>\n",
              "      <th>58</th>\n",
              "      <td>RT @TeamPayal: Dangal Actress Zaira Wasim Anno...</td>\n",
              "      <td>{'neg': 0.0, 'neu': 1.0, 'pos': 0.0, 'compound...</td>\n",
              "    </tr>\n",
              "    <tr>\n",
              "      <th>59</th>\n",
              "      <td>RT @nehmatks: People need to stop invalidating...</td>\n",
              "      <td>{'neg': 0.183, 'neu': 0.717, 'pos': 0.1, 'comp...</td>\n",
              "    </tr>\n",
              "    <tr>\n",
              "      <th>60</th>\n",
              "      <td>RT @rameshsrivats: Just caught up on the Zaira...</td>\n",
              "      <td>{'neg': 0.0, 'neu': 1.0, 'pos': 0.0, 'compound...</td>\n",
              "    </tr>\n",
              "    <tr>\n",
              "      <th>61</th>\n",
              "      <td>बॉलिवूड 'एक्झिट'च्या निर्णयानंतर झायरा सध्या च...</td>\n",
              "      <td>{'neg': 0.0, 'neu': 1.0, 'pos': 0.0, 'compound...</td>\n",
              "    </tr>\n",
              "    <tr>\n",
              "      <th>62</th>\n",
              "      <td>RT @rameshsrivats: Just caught up on the Zaira...</td>\n",
              "      <td>{'neg': 0.0, 'neu': 1.0, 'pos': 0.0, 'compound...</td>\n",
              "    </tr>\n",
              "    <tr>\n",
              "      <th>63</th>\n",
              "      <td>RT @rameshsrivats: Just caught up on the Zaira...</td>\n",
              "      <td>{'neg': 0.0, 'neu': 1.0, 'pos': 0.0, 'compound...</td>\n",
              "    </tr>\n",
              "    <tr>\n",
              "      <th>64</th>\n",
              "      <td>EXCLUSIVE| Nafisa Ali Sodhi cancer-free; share...</td>\n",
              "      <td>{'neg': 0.0, 'neu': 0.885, 'pos': 0.115, 'comp...</td>\n",
              "    </tr>\n",
              "    <tr>\n",
              "      <th>65</th>\n",
              "      <td>RT @rameshsrivats: Just caught up on the Zaira...</td>\n",
              "      <td>{'neg': 0.0, 'neu': 1.0, 'pos': 0.0, 'compound...</td>\n",
              "    </tr>\n",
              "    <tr>\n",
              "      <th>66</th>\n",
              "      <td>RT @rameshsrivats: Just caught up on the Zaira...</td>\n",
              "      <td>{'neg': 0.0, 'neu': 1.0, 'pos': 0.0, 'compound...</td>\n",
              "    </tr>\n",
              "    <tr>\n",
              "      <th>67</th>\n",
              "      <td>RT @rameshsrivats: Just caught up on the Zaira...</td>\n",
              "      <td>{'neg': 0.0, 'neu': 1.0, 'pos': 0.0, 'compound...</td>\n",
              "    </tr>\n",
              "    <tr>\n",
              "      <th>68</th>\n",
              "      <td>RT @News18India: जायरा के मुताबिक उनका काम उन्...</td>\n",
              "      <td>{'neg': 0.0, 'neu': 1.0, 'pos': 0.0, 'compound...</td>\n",
              "    </tr>\n",
              "    <tr>\n",
              "      <th>69</th>\n",
              "      <td>RT @rameshsrivats: Just caught up on the Zaira...</td>\n",
              "      <td>{'neg': 0.0, 'neu': 1.0, 'pos': 0.0, 'compound...</td>\n",
              "    </tr>\n",
              "    <tr>\n",
              "      <th>70</th>\n",
              "      <td>RT @sgurumurthy: Had only a Hindu actress or a...</td>\n",
              "      <td>{'neg': 0.114, 'neu': 0.886, 'pos': 0.0, 'comp...</td>\n",
              "    </tr>\n",
              "    <tr>\n",
              "      <th>71</th>\n",
              "      <td>RT @BBCWorld: Muslim actress Zaira Wasim quits...</td>\n",
              "      <td>{'neg': 0.0, 'neu': 1.0, 'pos': 0.0, 'compound...</td>\n",
              "    </tr>\n",
              "    <tr>\n",
              "      <th>72</th>\n",
              "      <td>Zaira Wasim Opts Out of The Sky Is Pink promot...</td>\n",
              "      <td>{'neg': 0.0, 'neu': 1.0, 'pos': 0.0, 'compound...</td>\n",
              "    </tr>\n",
              "    <tr>\n",
              "      <th>73</th>\n",
              "      <td>RT @rameshsrivats: Just caught up on the Zaira...</td>\n",
              "      <td>{'neg': 0.0, 'neu': 1.0, 'pos': 0.0, 'compound...</td>\n",
              "    </tr>\n",
              "    <tr>\n",
              "      <th>74</th>\n",
              "      <td>@smitaprakash \"Discovered\" 😲\\nThou too comment...</td>\n",
              "      <td>{'neg': 0.0, 'neu': 1.0, 'pos': 0.0, 'compound...</td>\n",
              "    </tr>\n",
              "    <tr>\n",
              "      <th>75</th>\n",
              "      <td>RT @utterflea: I cant even imagine why grown w...</td>\n",
              "      <td>{'neg': 0.104, 'neu': 0.717, 'pos': 0.179, 'co...</td>\n",
              "    </tr>\n",
              "    <tr>\n",
              "      <th>76</th>\n",
              "      <td>RT @nikhil_thatte: Vinod Khanna a BJP MP quitt...</td>\n",
              "      <td>{'neg': 0.0, 'neu': 0.887, 'pos': 0.113, 'comp...</td>\n",
              "    </tr>\n",
              "    <tr>\n",
              "      <th>77</th>\n",
              "      <td>RT @Lopak_in: एक लड़की जो मूलतः कश्मीर से आती ...</td>\n",
              "      <td>{'neg': 0.0, 'neu': 1.0, 'pos': 0.0, 'compound...</td>\n",
              "    </tr>\n",
              "    <tr>\n",
              "      <th>78</th>\n",
              "      <td>https://t.co/BoCX2gKszA തന്റെ വിശ്വാസത്തെ ബാധി...</td>\n",
              "      <td>{'neg': 0.0, 'neu': 1.0, 'pos': 0.0, 'compound...</td>\n",
              "    </tr>\n",
              "    <tr>\n",
              "      <th>79</th>\n",
              "      <td>RT @rameshsrivats: Just caught up on the Zaira...</td>\n",
              "      <td>{'neg': 0.0, 'neu': 1.0, 'pos': 0.0, 'compound...</td>\n",
              "    </tr>\n",
              "    <tr>\n",
              "      <th>80</th>\n",
              "      <td>RT @rameshsrivats: Just caught up on the Zaira...</td>\n",
              "      <td>{'neg': 0.0, 'neu': 1.0, 'pos': 0.0, 'compound...</td>\n",
              "    </tr>\n",
              "    <tr>\n",
              "      <th>81</th>\n",
              "      <td>RT @sgurumurthy: Had only a Hindu actress or a...</td>\n",
              "      <td>{'neg': 0.114, 'neu': 0.886, 'pos': 0.0, 'comp...</td>\n",
              "    </tr>\n",
              "    <tr>\n",
              "      <th>82</th>\n",
              "      <td>RT @raihanadhira: Life is too short yet too lo...</td>\n",
              "      <td>{'neg': 0.187, 'neu': 0.813, 'pos': 0.0, 'comp...</td>\n",
              "    </tr>\n",
              "    <tr>\n",
              "      <th>83</th>\n",
              "      <td>RT @Koimoi: Inside sources reveal more details...</td>\n",
              "      <td>{'neg': 0.0, 'neu': 1.0, 'pos': 0.0, 'compound...</td>\n",
              "    </tr>\n",
              "  </tbody>\n",
              "</table>\n",
              "<p>84 rows × 2 columns</p>\n",
              "</div>"
            ],
            "text/plain": [
              "                                               Tweets                                           polarity\n",
              "0   RT @sgurumurthy: Had only a Hindu actress or a...  {'neg': 0.114, 'neu': 0.886, 'pos': 0.0, 'comp...\n",
              "1   RT @ashoswai: Who will play Sita in Ram-Leela?...  {'neg': 0.0, 'neu': 0.769, 'pos': 0.231, 'comp...\n",
              "2   RT @rameshsrivats: Just caught up on the Zaira...  {'neg': 0.0, 'neu': 1.0, 'pos': 0.0, 'compound...\n",
              "3   RT @rameshsrivats: Just caught up on the Zaira...  {'neg': 0.0, 'neu': 1.0, 'pos': 0.0, 'compound...\n",
              "4   RT @sgurumurthy: Had only a Hindu actress or a...  {'neg': 0.114, 'neu': 0.886, 'pos': 0.0, 'comp...\n",
              "5   RT @Punofgod: Zaira wasim ne acting chor di, A...  {'neg': 0.0, 'neu': 1.0, 'pos': 0.0, 'compound...\n",
              "6   RT @AbijitG: I was thinking Zaira Wasim should...  {'neg': 0.234, 'neu': 0.602, 'pos': 0.164, 'co...\n",
              "7   RT @Payal_Rohatgi: Zaira Wasim के सन्यास पर अभ...  {'neg': 0.0, 'neu': 1.0, 'pos': 0.0, 'compound...\n",
              "8   RT @Payal_Rohatgi: Zaira Wasim के सन्यास पर अभ...  {'neg': 0.0, 'neu': 1.0, 'pos': 0.0, 'compound...\n",
              "9   RT @rameshsrivats: Just caught up on the Zaira...  {'neg': 0.0, 'neu': 1.0, 'pos': 0.0, 'compound...\n",
              "10  RT @Payal_Rohatgi: Zaira Wasim के सन्यास पर अभ...  {'neg': 0.0, 'neu': 1.0, 'pos': 0.0, 'compound...\n",
              "11  RT @rameshsrivats: Just caught up on the Zaira...  {'neg': 0.0, 'neu': 1.0, 'pos': 0.0, 'compound...\n",
              "12  জায়রার সিদ্ধান্ত অত্যন্ত বোকা বোকা :​ তসলিমা ...  {'neg': 0.0, 'neu': 1.0, 'pos': 0.0, 'compound...\n",
              "13  Zaira Wasim के सन्यास पर अभिनेत्री Payal Rohta...  {'neg': 0.0, 'neu': 1.0, 'pos': 0.0, 'compound...\n",
              "14  RT @TheQuint: Blog | To me, Zaira’s long note ...  {'neg': 0.0, 'neu': 0.744, 'pos': 0.256, 'comp...\n",
              "15  ''മതമാണ് നിങ്ങളെ കൊണ്ട് ഇതു ചെയ്യിച്ചതെങ്കില്‍...  {'neg': 0.0, 'neu': 1.0, 'pos': 0.0, 'compound...\n",
              "16  RT @rameshsrivats: Just caught up on the Zaira...  {'neg': 0.0, 'neu': 1.0, 'pos': 0.0, 'compound...\n",
              "17  RT @rameshsrivats: Just caught up on the Zaira...  {'neg': 0.0, 'neu': 1.0, 'pos': 0.0, 'compound...\n",
              "18  RT @calamur: At the height of his stardom, Vin...  {'neg': 0.059, 'neu': 0.941, 'pos': 0.0, 'comp...\n",
              "19  RT @rameshsrivats: Just caught up on the Zaira...  {'neg': 0.0, 'neu': 1.0, 'pos': 0.0, 'compound...\n",
              "20  RT @rameshsrivats: Just caught up on the Zaira...  {'neg': 0.0, 'neu': 1.0, 'pos': 0.0, 'compound...\n",
              "21  RT @rameshsrivats: Just caught up on the Zaira...  {'neg': 0.0, 'neu': 1.0, 'pos': 0.0, 'compound...\n",
              "22  RT @the_fauxy: Zaira Wasim Quits Acting As Isl...  {'neg': 0.126, 'neu': 0.874, 'pos': 0.0, 'comp...\n",
              "23  RT @rameshsrivats: Just caught up on the Zaira...  {'neg': 0.0, 'neu': 1.0, 'pos': 0.0, 'compound...\n",
              "24  @chetan_bhagat i write trash chickflick for 13...  {'neg': 0.1, 'neu': 0.9, 'pos': 0.0, 'compound...\n",
              "25  RT @rameshsrivats: Just caught up on the Zaira...  {'neg': 0.0, 'neu': 1.0, 'pos': 0.0, 'compound...\n",
              "26  RT @AbijitG: I was thinking Zaira Wasim should...  {'neg': 0.234, 'neu': 0.602, 'pos': 0.164, 'co...\n",
              "27  #Dangal actress #ZairaWasim quits Bollywood, s...  {'neg': 0.214, 'neu': 0.786, 'pos': 0.0, 'comp...\n",
              "28  After reading the statement given by zaira was...  {'neg': 0.0, 'neu': 0.887, 'pos': 0.113, 'comp...\n",
              "29  @anandmahindra Anand ji zaira wasim ke baare m...  {'neg': 0.0, 'neu': 1.0, 'pos': 0.0, 'compound...\n",
              "..                                                ...                                                ...\n",
              "54  RT @UnSubtleDesi: Zaira Wasim’s manager flip-f...  {'neg': 0.119, 'neu': 0.881, 'pos': 0.0, 'comp...\n",
              "55  RT @rameshsrivats: Just caught up on the Zaira...  {'neg': 0.0, 'neu': 1.0, 'pos': 0.0, 'compound...\n",
              "56  Raveena Tandon deletes tweet over Zaira Wasim ...  {'neg': 0.0, 'neu': 0.848, 'pos': 0.152, 'comp...\n",
              "57  Raveena Tandon deletes tweet over Zaira Wasim ...  {'neg': 0.0, 'neu': 0.865, 'pos': 0.135, 'comp...\n",
              "58  RT @TeamPayal: Dangal Actress Zaira Wasim Anno...  {'neg': 0.0, 'neu': 1.0, 'pos': 0.0, 'compound...\n",
              "59  RT @nehmatks: People need to stop invalidating...  {'neg': 0.183, 'neu': 0.717, 'pos': 0.1, 'comp...\n",
              "60  RT @rameshsrivats: Just caught up on the Zaira...  {'neg': 0.0, 'neu': 1.0, 'pos': 0.0, 'compound...\n",
              "61  बॉलिवूड 'एक्झिट'च्या निर्णयानंतर झायरा सध्या च...  {'neg': 0.0, 'neu': 1.0, 'pos': 0.0, 'compound...\n",
              "62  RT @rameshsrivats: Just caught up on the Zaira...  {'neg': 0.0, 'neu': 1.0, 'pos': 0.0, 'compound...\n",
              "63  RT @rameshsrivats: Just caught up on the Zaira...  {'neg': 0.0, 'neu': 1.0, 'pos': 0.0, 'compound...\n",
              "64  EXCLUSIVE| Nafisa Ali Sodhi cancer-free; share...  {'neg': 0.0, 'neu': 0.885, 'pos': 0.115, 'comp...\n",
              "65  RT @rameshsrivats: Just caught up on the Zaira...  {'neg': 0.0, 'neu': 1.0, 'pos': 0.0, 'compound...\n",
              "66  RT @rameshsrivats: Just caught up on the Zaira...  {'neg': 0.0, 'neu': 1.0, 'pos': 0.0, 'compound...\n",
              "67  RT @rameshsrivats: Just caught up on the Zaira...  {'neg': 0.0, 'neu': 1.0, 'pos': 0.0, 'compound...\n",
              "68  RT @News18India: जायरा के मुताबिक उनका काम उन्...  {'neg': 0.0, 'neu': 1.0, 'pos': 0.0, 'compound...\n",
              "69  RT @rameshsrivats: Just caught up on the Zaira...  {'neg': 0.0, 'neu': 1.0, 'pos': 0.0, 'compound...\n",
              "70  RT @sgurumurthy: Had only a Hindu actress or a...  {'neg': 0.114, 'neu': 0.886, 'pos': 0.0, 'comp...\n",
              "71  RT @BBCWorld: Muslim actress Zaira Wasim quits...  {'neg': 0.0, 'neu': 1.0, 'pos': 0.0, 'compound...\n",
              "72  Zaira Wasim Opts Out of The Sky Is Pink promot...  {'neg': 0.0, 'neu': 1.0, 'pos': 0.0, 'compound...\n",
              "73  RT @rameshsrivats: Just caught up on the Zaira...  {'neg': 0.0, 'neu': 1.0, 'pos': 0.0, 'compound...\n",
              "74  @smitaprakash \"Discovered\" 😲\\nThou too comment...  {'neg': 0.0, 'neu': 1.0, 'pos': 0.0, 'compound...\n",
              "75  RT @utterflea: I cant even imagine why grown w...  {'neg': 0.104, 'neu': 0.717, 'pos': 0.179, 'co...\n",
              "76  RT @nikhil_thatte: Vinod Khanna a BJP MP quitt...  {'neg': 0.0, 'neu': 0.887, 'pos': 0.113, 'comp...\n",
              "77  RT @Lopak_in: एक लड़की जो मूलतः कश्मीर से आती ...  {'neg': 0.0, 'neu': 1.0, 'pos': 0.0, 'compound...\n",
              "78  https://t.co/BoCX2gKszA തന്റെ വിശ്വാസത്തെ ബാധി...  {'neg': 0.0, 'neu': 1.0, 'pos': 0.0, 'compound...\n",
              "79  RT @rameshsrivats: Just caught up on the Zaira...  {'neg': 0.0, 'neu': 1.0, 'pos': 0.0, 'compound...\n",
              "80  RT @rameshsrivats: Just caught up on the Zaira...  {'neg': 0.0, 'neu': 1.0, 'pos': 0.0, 'compound...\n",
              "81  RT @sgurumurthy: Had only a Hindu actress or a...  {'neg': 0.114, 'neu': 0.886, 'pos': 0.0, 'comp...\n",
              "82  RT @raihanadhira: Life is too short yet too lo...  {'neg': 0.187, 'neu': 0.813, 'pos': 0.0, 'comp...\n",
              "83  RT @Koimoi: Inside sources reveal more details...  {'neg': 0.0, 'neu': 1.0, 'pos': 0.0, 'compound...\n",
              "\n",
              "[84 rows x 2 columns]"
            ]
          },
          "metadata": {
            "tags": []
          }
        }
      ]
    },
    {
      "cell_type": "code",
      "metadata": {
        "id": "Bs2LoKUfSig5",
        "colab_type": "code",
        "colab": {}
      },
      "source": [
        ""
      ],
      "execution_count": 0,
      "outputs": []
    }
  ]
}